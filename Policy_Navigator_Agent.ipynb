{
 "cells": [
  {
   "cell_type": "markdown",
   "metadata": {},
   "source": [
    "# Aixplain Agent RAG System"
   ]
  },
  {
   "cell_type": "code",
   "execution_count": 1,
   "metadata": {},
   "outputs": [],
   "source": [
    "from aixplain_api import api_key\n",
    "import os\n",
    "\n",
    "# Set the API key as an environment variable\n",
    "os.environ[\"TEAM_API_KEY\"] = api_key"
   ]
  },
  {
   "cell_type": "markdown",
   "metadata": {},
   "source": [
    "## get the data from kaggle"
   ]
  },
  {
   "cell_type": "code",
   "execution_count": 128,
   "metadata": {},
   "outputs": [
    {
     "name": "stderr",
     "output_type": "stream",
     "text": [
      "/var/folders/g1/j9tp4849033dghm0k2mz3_580000gn/T/ipykernel_94859/327888434.py:10: DeprecationWarning: load_dataset is deprecated and will be removed in a future version.\n",
      "  df = kagglehub.load_dataset(\n"
     ]
    },
    {
     "data": {
      "text/html": [
       "<div>\n",
       "<style scoped>\n",
       "    .dataframe tbody tr th:only-of-type {\n",
       "        vertical-align: middle;\n",
       "    }\n",
       "\n",
       "    .dataframe tbody tr th {\n",
       "        vertical-align: top;\n",
       "    }\n",
       "\n",
       "    .dataframe thead th {\n",
       "        text-align: right;\n",
       "    }\n",
       "</style>\n",
       "<table border=\"1\" class=\"dataframe\">\n",
       "  <thead>\n",
       "    <tr style=\"text-align: right;\">\n",
       "      <th></th>\n",
       "      <th>Country</th>\n",
       "      <th>Density\\n(P/Km2)</th>\n",
       "      <th>Abbreviation</th>\n",
       "      <th>Agricultural Land( %)</th>\n",
       "      <th>Land Area(Km2)</th>\n",
       "      <th>Armed Forces size</th>\n",
       "      <th>Birth Rate</th>\n",
       "      <th>Calling Code</th>\n",
       "      <th>Capital/Major City</th>\n",
       "      <th>Co2-Emissions</th>\n",
       "      <th>...</th>\n",
       "      <th>Out of pocket health expenditure</th>\n",
       "      <th>Physicians per thousand</th>\n",
       "      <th>Population</th>\n",
       "      <th>Population: Labor force participation (%)</th>\n",
       "      <th>Tax revenue (%)</th>\n",
       "      <th>Total tax rate</th>\n",
       "      <th>Unemployment rate</th>\n",
       "      <th>Urban_population</th>\n",
       "      <th>Latitude</th>\n",
       "      <th>Longitude</th>\n",
       "    </tr>\n",
       "  </thead>\n",
       "  <tbody>\n",
       "    <tr>\n",
       "      <th>0</th>\n",
       "      <td>Afghanistan</td>\n",
       "      <td>60</td>\n",
       "      <td>AF</td>\n",
       "      <td>58.10%</td>\n",
       "      <td>652,230</td>\n",
       "      <td>323,000</td>\n",
       "      <td>32.49</td>\n",
       "      <td>93.0</td>\n",
       "      <td>Kabul</td>\n",
       "      <td>8,672</td>\n",
       "      <td>...</td>\n",
       "      <td>78.40%</td>\n",
       "      <td>0.28</td>\n",
       "      <td>38,041,754</td>\n",
       "      <td>48.90%</td>\n",
       "      <td>9.30%</td>\n",
       "      <td>71.40%</td>\n",
       "      <td>11.12%</td>\n",
       "      <td>9,797,273</td>\n",
       "      <td>33.939110</td>\n",
       "      <td>67.709953</td>\n",
       "    </tr>\n",
       "    <tr>\n",
       "      <th>1</th>\n",
       "      <td>Albania</td>\n",
       "      <td>105</td>\n",
       "      <td>AL</td>\n",
       "      <td>43.10%</td>\n",
       "      <td>28,748</td>\n",
       "      <td>9,000</td>\n",
       "      <td>11.78</td>\n",
       "      <td>355.0</td>\n",
       "      <td>Tirana</td>\n",
       "      <td>4,536</td>\n",
       "      <td>...</td>\n",
       "      <td>56.90%</td>\n",
       "      <td>1.20</td>\n",
       "      <td>2,854,191</td>\n",
       "      <td>55.70%</td>\n",
       "      <td>18.60%</td>\n",
       "      <td>36.60%</td>\n",
       "      <td>12.33%</td>\n",
       "      <td>1,747,593</td>\n",
       "      <td>41.153332</td>\n",
       "      <td>20.168331</td>\n",
       "    </tr>\n",
       "    <tr>\n",
       "      <th>2</th>\n",
       "      <td>Algeria</td>\n",
       "      <td>18</td>\n",
       "      <td>DZ</td>\n",
       "      <td>17.40%</td>\n",
       "      <td>2,381,741</td>\n",
       "      <td>317,000</td>\n",
       "      <td>24.28</td>\n",
       "      <td>213.0</td>\n",
       "      <td>Algiers</td>\n",
       "      <td>150,006</td>\n",
       "      <td>...</td>\n",
       "      <td>28.10%</td>\n",
       "      <td>1.72</td>\n",
       "      <td>43,053,054</td>\n",
       "      <td>41.20%</td>\n",
       "      <td>37.20%</td>\n",
       "      <td>66.10%</td>\n",
       "      <td>11.70%</td>\n",
       "      <td>31,510,100</td>\n",
       "      <td>28.033886</td>\n",
       "      <td>1.659626</td>\n",
       "    </tr>\n",
       "    <tr>\n",
       "      <th>3</th>\n",
       "      <td>Andorra</td>\n",
       "      <td>164</td>\n",
       "      <td>AD</td>\n",
       "      <td>40.00%</td>\n",
       "      <td>468</td>\n",
       "      <td>NaN</td>\n",
       "      <td>7.20</td>\n",
       "      <td>376.0</td>\n",
       "      <td>Andorra la Vella</td>\n",
       "      <td>469</td>\n",
       "      <td>...</td>\n",
       "      <td>36.40%</td>\n",
       "      <td>3.33</td>\n",
       "      <td>77,142</td>\n",
       "      <td>NaN</td>\n",
       "      <td>NaN</td>\n",
       "      <td>NaN</td>\n",
       "      <td>NaN</td>\n",
       "      <td>67,873</td>\n",
       "      <td>42.506285</td>\n",
       "      <td>1.521801</td>\n",
       "    </tr>\n",
       "    <tr>\n",
       "      <th>4</th>\n",
       "      <td>Angola</td>\n",
       "      <td>26</td>\n",
       "      <td>AO</td>\n",
       "      <td>47.50%</td>\n",
       "      <td>1,246,700</td>\n",
       "      <td>117,000</td>\n",
       "      <td>40.73</td>\n",
       "      <td>244.0</td>\n",
       "      <td>Luanda</td>\n",
       "      <td>34,693</td>\n",
       "      <td>...</td>\n",
       "      <td>33.40%</td>\n",
       "      <td>0.21</td>\n",
       "      <td>31,825,295</td>\n",
       "      <td>77.50%</td>\n",
       "      <td>9.20%</td>\n",
       "      <td>49.10%</td>\n",
       "      <td>6.89%</td>\n",
       "      <td>21,061,025</td>\n",
       "      <td>-11.202692</td>\n",
       "      <td>17.873887</td>\n",
       "    </tr>\n",
       "  </tbody>\n",
       "</table>\n",
       "<p>5 rows × 35 columns</p>\n",
       "</div>"
      ],
      "text/plain": [
       "       Country Density\\n(P/Km2) Abbreviation Agricultural Land( %)  \\\n",
       "0  Afghanistan               60           AF                58.10%   \n",
       "1      Albania              105           AL                43.10%   \n",
       "2      Algeria               18           DZ                17.40%   \n",
       "3      Andorra              164           AD                40.00%   \n",
       "4       Angola               26           AO                47.50%   \n",
       "\n",
       "  Land Area(Km2) Armed Forces size  Birth Rate  Calling Code  \\\n",
       "0        652,230           323,000       32.49          93.0   \n",
       "1         28,748             9,000       11.78         355.0   \n",
       "2      2,381,741           317,000       24.28         213.0   \n",
       "3            468               NaN        7.20         376.0   \n",
       "4      1,246,700           117,000       40.73         244.0   \n",
       "\n",
       "  Capital/Major City Co2-Emissions  ... Out of pocket health expenditure  \\\n",
       "0              Kabul         8,672  ...                           78.40%   \n",
       "1             Tirana         4,536  ...                           56.90%   \n",
       "2            Algiers       150,006  ...                           28.10%   \n",
       "3   Andorra la Vella           469  ...                           36.40%   \n",
       "4             Luanda        34,693  ...                           33.40%   \n",
       "\n",
       "  Physicians per thousand  Population  \\\n",
       "0                    0.28  38,041,754   \n",
       "1                    1.20   2,854,191   \n",
       "2                    1.72  43,053,054   \n",
       "3                    3.33      77,142   \n",
       "4                    0.21  31,825,295   \n",
       "\n",
       "   Population: Labor force participation (%) Tax revenue (%) Total tax rate  \\\n",
       "0                                     48.90%           9.30%         71.40%   \n",
       "1                                     55.70%          18.60%         36.60%   \n",
       "2                                     41.20%          37.20%         66.10%   \n",
       "3                                        NaN             NaN            NaN   \n",
       "4                                     77.50%           9.20%         49.10%   \n",
       "\n",
       "  Unemployment rate Urban_population   Latitude  Longitude  \n",
       "0            11.12%        9,797,273  33.939110  67.709953  \n",
       "1            12.33%        1,747,593  41.153332  20.168331  \n",
       "2            11.70%       31,510,100  28.033886   1.659626  \n",
       "3               NaN           67,873  42.506285   1.521801  \n",
       "4             6.89%       21,061,025 -11.202692  17.873887  \n",
       "\n",
       "[5 rows x 35 columns]"
      ]
     },
     "execution_count": 128,
     "metadata": {},
     "output_type": "execute_result"
    }
   ],
   "source": [
    "# Install dependencies as needed:\n",
    "# pip install kagglehub[pandas-datasets]\n",
    "import kagglehub\n",
    "from kagglehub import KaggleDatasetAdapter\n",
    "\n",
    "# Set the path to the file you'd like to load\n",
    "file_path = \"world-data-2023.csv\"\n",
    "\n",
    "# Load the latest version\n",
    "df = kagglehub.load_dataset(\n",
    "  KaggleDatasetAdapter.PANDAS,\n",
    "  \"nelgiriyewithana/countries-of-the-world-2023\",\n",
    "  file_path,\n",
    ")\n",
    "\n",
    "df.head()"
   ]
  },
  {
   "cell_type": "markdown",
   "metadata": {},
   "source": [
    "## Indexing for csv file"
   ]
  },
  {
   "cell_type": "code",
   "execution_count": null,
   "metadata": {},
   "outputs": [],
   "source": [
    "from aixplain.factories import IndexFactory\n",
    "from aixplain.modules.model.record import Record\n",
    "\n",
    "# Delete existing index if it exists\n",
    "index_list = IndexFactory.list(query=\"country-info-index\")\n",
    "for index_1 in index_list[\"results\"]:\n",
    "  index_1.delete()\n",
    "\n",
    "# Create a new index\n",
    "index = IndexFactory.create(\n",
    "        \"country-info-index\",\n",
    "        \"Index for country information. \"\n",
    "    )\n",
    "\n",
    "# Convert DataFrame to records and upsert into the index\n",
    "records = []\n",
    "for i, row in df.iterrows():\n",
    "    records.append(Record(value=row.to_json()))\n",
    "\n",
    "# Upsert records into the index\n",
    "index.upsert(records)\n"
   ]
  },
  {
   "cell_type": "markdown",
   "metadata": {},
   "source": [
    "## Indexing for web scraping"
   ]
  },
  {
   "cell_type": "code",
   "execution_count": null,
   "metadata": {},
   "outputs": [],
   "source": [
    "from aixplain.factories import IndexFactory, ModelFactory\n",
    "from aixplain.modules.model.record import Record\n",
    "\n",
    "# Delete existing index if it exists\n",
    "records = []\n",
    "index_list = IndexFactory.list(query=\"Regulatory and Guidance Information for Air\")\n",
    "for index_1 in index_list[\"results\"]:\n",
    "  index_1.delete()\n",
    "\n",
    "# Create a new index for Regulatory and Guidance Information for Air\n",
    "Regulatory_index = IndexFactory.create(\n",
    "        \"Regulatory and Guidance Information for Air\",\n",
    "        \"Index for Regulatory and Guidance Information by Topic: Air\"\n",
    "    )\n",
    "\n",
    "utility = ModelFactory.get(\"66f423426eb563fa213a3531\")\n",
    "website_result = utility.run({\"text\": \"https://www.epa.gov/regulatory-information-topic/regulatory-and-guidance-information-topic-air\"})\n",
    "#website_result = utility.run({\"text\": \"https://dga.gov.sa/en/regulatory_framework\"})\n",
    "records.append(Record(value=website_result.data))\n",
    "\n",
    "\n",
    "Regulatory_index.upsert(records)\n"
   ]
  },
  {
   "cell_type": "markdown",
   "metadata": {},
   "source": [
    "## create SQL/csv tool"
   ]
  },
  {
   "cell_type": "code",
   "execution_count": null,
   "metadata": {},
   "outputs": [],
   "source": [
    "from aixplain.factories import AgentFactory\n",
    "current_dir = os.getcwd()\n",
    "\n",
    "# Create a SQL tool for company policies\n",
    "csv_tool = AgentFactory.create_sql_tool(\n",
    "    name=\"company_policies DB\",\n",
    "    source= current_dir + \"/company_policies.csv\",\n",
    "    source_type=\"csv\",\n",
    "    enable_commit=False,\n",
    "    description=\"Database about company policies.\"\n",
    ")"
   ]
  },
  {
   "cell_type": "markdown",
   "metadata": {},
   "source": [
    "## utility for flight information "
   ]
  },
  {
   "cell_type": "code",
   "execution_count": null,
   "metadata": {},
   "outputs": [],
   "source": [
    "def get_flight_info(airline:str):\n",
    "    \"\"\"\n",
    "    get flight information besed on the airline name.\n",
    "    \"\"\"\n",
    "    import requests\n",
    "\n",
    "    # Define the API endpoint and parameters\n",
    "    params = {\n",
    "        'access_key': ''\n",
    "    }\n",
    "\n",
    "    api_result = requests.get('https://api.aviationstack.com/v1/flights', params=params)\n",
    "\n",
    "    api_response = api_result.json()\n",
    "\n",
    "    results = []\n",
    "    for flight in api_response.get('data', []):\n",
    "        airline_name = flight.get('airline', {}).get('name')\n",
    "        if airline and (not airline_name or airline.lower() not in airline_name.lower()):\n",
    "            continue\n",
    "        result =(u'%s flight %s from %s (%s) to %s (%s) is in the air.' % (\n",
    "                    flight['airline']['name'],\n",
    "                    flight['flight']['iata'],\n",
    "                    flight['departure']['airport'],\n",
    "                    flight['departure']['iata'],\n",
    "                    flight['arrival']['airport'],\n",
    "                    flight['arrival']['iata']))\n",
    "        results.append(result)\n",
    "    return results\n",
    "\n",
    "\n",
    "# Import factories\n",
    "from aixplain.factories import ModelFactory\n",
    "\n",
    "utility_list = ModelFactory.list(query=\"Get flight information\")\n",
    "for utility_1 in utility_list[\"results\"]:\n",
    "  utility_1.delete()\n",
    "\n",
    "# Step 1: Create and deploy the utility model\n",
    "utility = ModelFactory.create_utility_model(\n",
    "    name=\"Get flight information\",\n",
    "    description=\"Get flight information.\",\n",
    "    code=get_flight_info\n",
    ")\n",
    "\n",
    "# Deploy the model to make it reusable\n",
    "utility.deploy()\n",
    "\n",
    "print(utility.id)"
   ]
  },
  {
   "cell_type": "markdown",
   "metadata": {},
   "source": [
    "## The Agent "
   ]
  },
  {
   "cell_type": "code",
   "execution_count": null,
   "metadata": {},
   "outputs": [],
   "source": [
    "from aixplain.factories import AgentFactory\n",
    "\n",
    "# Create an agent that uses the index and tools\n",
    "agent = AgentFactory.create(\n",
    "    name=\"Knowledge Assistant for countries information\",\n",
    "    description=\"Answers based on the provided index\",\n",
    "    instructions=(\n",
    "        \"\"\"\n",
    "        Your task is to handle natural language queries by searching and retrieving relevant information \n",
    "        using the appropriate tool from the list below. Understand the user's intent, select the best tool\n",
    "        accordingly, apply filters when mentioned, and return concise and accurate results.\n",
    "        Tool Guide:\n",
    "        - Use `country-info-index` for country-specific questions.\n",
    "        - Use `Regulatory and Guidance Information for Air` for air-related regulations.\n",
    "        - Use `company_policies DB` for company policy queries.\n",
    "        - Use `Get flight information` for flight details based on airline name or destination.\n",
    "        \"\"\"\n",
    "    ),\n",
    "    tools=[\n",
    "        AgentFactory.create_model_tool(model=index.id),\n",
    "        AgentFactory.create_model_tool(model=Regulatory_index.id),\n",
    "        csv_tool,\n",
    "        AgentFactory.create_model_tool(model=utility.id),\n",
    "\n",
    "    ],#llm_id=\"669a63646eb56306647e1091\" # GPT-4o Mini\n",
    ")\n",
    "\n",
    "agent_response = agent.run(\"What is the birth rate in Saudi Arabia?\")\n",
    "\n",
    "agent_response.data['intermediate_steps']\n"
   ]
  },
  {
   "cell_type": "markdown",
   "metadata": {},
   "source": [
    "## result "
   ]
  },
  {
   "cell_type": "code",
   "execution_count": 117,
   "metadata": {},
   "outputs": [
    {
     "name": "stderr",
     "output_type": "stream",
     "text": [
      "INFO:root:Polling for Model: Start polling for model_process\n"
     ]
    },
    {
     "data": {
      "text/plain": [
       "[{'agent': 'Knowledge Assistant for countries information',\n",
       "  'input': \"{'input': 'What is the birth rate in Saudi Arabia?', 'chat_history': [], 'outputFormat': 'text'}\",\n",
       "  'output': 'The birth rate in Saudi Arabia is 17.8.',\n",
       "  'tool_steps': [{'tool': 'search-aixplain-country-info-index',\n",
       "    'input': \"{'text': 'birth rate in Saudi Arabia'}\",\n",
       "    'output': '[\\'{\"Country\":\"Saudi Arabia\",\"Density\\\\\\\\n(P\\\\\\\\/Km2)\":\"16\",\"Abbreviation\":\"SA\",\"Agricultural Land( %)\":\"80.80%\",\"Land Area(Km2)\":\"2,149,690\",\"Armed Forces size\":\"252,000\",\"Birth Rate\":17.8,\"Calling Code\":966.0,\"Capital\\\\\\\\/Major City\":\"Riyadh\",\"Co2-Emissions\":\"563,449\",\"CPI\":\"118.4\",\"CPI Change (%)\":\"-1.20%\",\"Currency-Code\":\"SAR\",\"Fertility Rate\":2.32,\"Forested Area (%)\":\"0.50%\",\"Gasoline Price\":\"$0.24 \",\"GDP\":\"$792,966,838,162 \",\"Gross primary education enrollment (%)\":\"99.80%\",\"Gross tertiary education enrollment (%)\":\"68.00%\",\"Infant mortality\":6.0,\"Largest city\":\"Riyadh\",\"Life expectancy\":75.0,\"Maternal mortality ratio\":17.0,\"Minimum wage\":\"$3.85 \",\"Official language\":\"Arabic\",\"Out of pocket health expenditure\":\"15.00%\",\"Physicians per thousand\":2.61,\"Population\":\"34,268,528\",\"Population: Labor force participation (%)\":\"55.90%\",\"Tax revenue (%)\":\"8.90%\",\"Total tax rate\":\"15.70%\",\"Unemployment rate\":\"5.93%\",\"Urban_population\":\"28,807,838\",\"Latitude\":23.885942,\"Longitude\":45.079162}\\', \\'{\"Country\":\"Bahrain\",\"Density\\\\\\\\n(P\\\\\\\\/Km2)\":\"2,239\",\"Abbreviation\":\"BH\",\"Agricultural Land( %)\":\"11.10%\",\"Land Area(Km2)\":\"765\",\"Armed Forces size\":\"19,000\",\"Birth Rate\":13.99,\"Calling Code\":973.0,\"Capital\\\\\\\\/Major City\":\"Manama\",\"Co2-Emissions\":\"31,694\",\"CPI\":\"117.59\",\"CPI Change (%)\":\"2.10%\",\"Currency-Code\":\"BHD\",\"Fertility Rate\":1.99,\"Forested Area (%)\":\"0.80%\",\"Gasoline Price\":\"$0.43 \",\"GDP\":\"$38,574,069,149 \",\"Gross primary education enrollment (%)\":\"99.40%\",\"Gross tertiary education enrollment (%)\":\"50.50%\",\"Infant mortality\":6.1,\"Largest city\":\"Riffa\",\"Life expectancy\":77.2,\"Maternal mortality ratio\":14.0,\"Minimum wage\":null,\"Official language\":\"Arabic\",\"Out of pocket health expenditure\":\"25.10%\",\"Physicians per thousand\":0.93,\"Population\":\"1,501,635\",\"Population: Labor force participation (%)\":\"73.40%\",\"Tax revenue (%)\":\"4.20%\",\"Total tax rate\":\"13.80%\",\"Unemployment rate\":\"0.71%\",\"Urban_population\":\"1,467,109\",\"Latitude\":26.0667,\"Longitude\":50.5577}\\', \\'{\"Country\":\"Yemen\",\"Density\\\\\\\\n(P\\\\\\\\/Km2)\":\"56\",\"Abbreviation\":\"YE\",\"Agricultural Land( %)\":\"44.60%\",\"Land Area(Km2)\":\"527,968\",\"Armed Forces size\":\"40,000\",\"Birth Rate\":30.45,\"Calling Code\":967.0,\"Capital\\\\\\\\/Major City\":\"Sanaa\",\"Co2-Emissions\":\"10,609\",\"CPI\":\"157.58\",\"CPI Change (%)\":\"8.10%\",\"Currency-Code\":\"YER\",\"Fertility Rate\":3.79,\"Forested Area (%)\":\"1.00%\",\"Gasoline Price\":\"$0.92 \",\"GDP\":\"$26,914,402,224 \",\"Gross primary education enrollment (%)\":\"93.60%\",\"Gross tertiary education enrollment (%)\":\"10.20%\",\"Infant mortality\":42.9,\"Largest city\":\"Sanaa\",\"Life expectancy\":66.1,\"Maternal mortality ratio\":164.0,\"Minimum wage\":null,\"Official language\":\"Arabic\",\"Out of pocket health expenditure\":\"81.00%\",\"Physicians per thousand\":0.31,\"Population\":\"29,161,922\",\"Population: Labor force participation (%)\":\"38.00%\",\"Tax revenue (%)\":null,\"Total tax rate\":\"26.60%\",\"Unemployment rate\":\"12.91%\",\"Urban_population\":\"10,869,523\",\"Latitude\":15.552727,\"Longitude\":48.516388}\\', \\'{\"Country\":\"United Arab Emirates\",\"Density\\\\\\\\n(P\\\\\\\\/Km2)\":\"118\",\"Abbreviation\":\"AE\",\"Agricultural Land( %)\":\"5.50%\",\"Land Area(Km2)\":\"83,600\",\"Armed Forces size\":\"63,000\",\"Birth Rate\":10.33,\"Calling Code\":971.0,\"Capital\\\\\\\\/Major City\":\"Abu Dhabi\",\"Co2-Emissions\":\"206,324\",\"CPI\":\"114.52\",\"CPI Change (%)\":\"-1.90%\",\"Currency-Code\":\"AED\",\"Fertility Rate\":1.41,\"Forested Area (%)\":\"4.60%\",\"Gasoline Price\":\"$0.49 \",\"GDP\":\"$421,142,267,938 \",\"Gross primary education enrollment (%)\":\"108.40%\",\"Gross tertiary education enrollment (%)\":\"36.80%\",\"Infant mortality\":6.5,\"Largest city\":\"Dubai\",\"Life expectancy\":77.8,\"Maternal mortality ratio\":3.0,\"Minimum wage\":null,\"Official language\":\"Arabic\",\"Out of pocket health expenditure\":\"17.80%\",\"Physicians per thousand\":2.53,\"Population\":\"9,770,529\",\"Population: Labor force participation (%)\":\"82.10%\",\"Tax revenue (%)\":\"0.10%\",\"Total tax rate\":\"15.90%\",\"Unemployment rate\":\"2.35%\",\"Urban_population\":\"8,479,744\",\"Latitude\":23.424076,\"Longitude\":53.847818}\\', \\'{\"Country\":\"Syria\",\"Density\\\\\\\\n(P\\\\\\\\/Km2)\":\"95\",\"Abbreviation\":\"SY\",\"Agricultural Land( %)\":\"75.80%\",\"Land Area(Km2)\":\"185,180\",\"Armed Forces size\":\"239,000\",\"Birth Rate\":23.69,\"Calling Code\":963.0,\"Capital\\\\\\\\/Major City\":\"Damascus\",\"Co2-Emissions\":\"28,830\",\"CPI\":\"143.2\",\"CPI Change (%)\":\"36.70%\",\"Currency-Code\":\"SYP\",\"Fertility Rate\":2.81,\"Forested Area (%)\":\"2.70%\",\"Gasoline Price\":\"$0.83 \",\"GDP\":\"$40,405,006,007 \",\"Gross primary education enrollment (%)\":\"81.70%\",\"Gross tertiary education enrollment (%)\":\"40.10%\",\"Infant mortality\":14.0,\"Largest city\":\"Damascus\",\"Life expectancy\":71.8,\"Maternal mortality ratio\":31.0,\"Minimum wage\":\"$1.02 \",\"Official language\":\"Arabic\",\"Out of pocket health expenditure\":\"53.70%\",\"Physicians per thousand\":1.22,\"Population\":\"17,070,135\",\"Population: Labor force participation (%)\":\"44.10%\",\"Tax revenue (%)\":\"14.20%\",\"Total tax rate\":\"42.70%\",\"Unemployment rate\":\"8.37%\",\"Urban_population\":\"9,358,019\",\"Latitude\":34.802075,\"Longitude\":38.996815}\\', \\'{\"Country\":\"Morocco\",\"Density\\\\\\\\n(P\\\\\\\\/Km2)\":\"83\",\"Abbreviation\":\"MA\",\"Agricultural Land( %)\":\"68.50%\",\"Land Area(Km2)\":\"446,550\",\"Armed Forces size\":\"246,000\",\"Birth Rate\":18.94,\"Calling Code\":212.0,\"Capital\\\\\\\\/Major City\":\"Rabat\",\"Co2-Emissions\":\"61,276\",\"CPI\":\"111.07\",\"CPI Change (%)\":\"0.20%\",\"Currency-Code\":\"MAD\",\"Fertility Rate\":2.42,\"Forested Area (%)\":\"12.60%\",\"Gasoline Price\":\"$0.99 \",\"GDP\":\"$118,725,279,596 \",\"Gross primary education enrollment (%)\":\"113.90%\",\"Gross tertiary education enrollment (%)\":\"35.90%\",\"Infant mortality\":19.2,\"Largest city\":\"Casablanca\",\"Life expectancy\":76.5,\"Maternal mortality ratio\":70.0,\"Minimum wage\":\"$1.60 \",\"Official language\":\"Arabic\",\"Out of pocket health expenditure\":\"53.10%\",\"Physicians per thousand\":0.73,\"Population\":\"36,910,560\",\"Population: Labor force participation (%)\":\"45.30%\",\"Tax revenue (%)\":\"21.90%\",\"Total tax rate\":\"45.80%\",\"Unemployment rate\":\"9.02%\",\"Urban_population\":\"22,975,026\",\"Latitude\":31.791702,\"Longitude\":-7.09262}\\', \\'{\"Country\":\"Qatar\",\"Density\\\\\\\\n(P\\\\\\\\/Km2)\":\"248\",\"Abbreviation\":\"QA\",\"Agricultural Land( %)\":\"5.80%\",\"Land Area(Km2)\":\"11,586\",\"Armed Forces size\":\"22,000\",\"Birth Rate\":9.54,\"Calling Code\":974.0,\"Capital\\\\\\\\/Major City\":\"Doha\",\"Co2-Emissions\":\"103,259\",\"CPI\":\"115.38\",\"CPI Change (%)\":\"-0.70%\",\"Currency-Code\":\"QAR\",\"Fertility Rate\":1.87,\"Forested Area (%)\":\"0.00%\",\"Gasoline Price\":\"$0.40 \",\"GDP\":\"$183,466,208,791 \",\"Gross primary education enrollment (%)\":\"103.80%\",\"Gross tertiary education enrollment (%)\":\"17.90%\",\"Infant mortality\":5.8,\"Largest city\":\"Doha\",\"Life expectancy\":80.1,\"Maternal mortality ratio\":9.0,\"Minimum wage\":null,\"Official language\":\"Arabic\",\"Out of pocket health expenditure\":\"6.20%\",\"Physicians per thousand\":2.49,\"Population\":\"2,832,067\",\"Population: Labor force participation (%)\":\"86.80%\",\"Tax revenue (%)\":\"14.70%\",\"Total tax rate\":\"11.30%\",\"Unemployment rate\":\"0.09%\",\"Urban_population\":\"2,809,071\",\"Latitude\":25.354826,\"Longitude\":51.183884}\\', \\'{\"Country\":\"Sudan\",\"Density\\\\\\\\n(P\\\\\\\\/Km2)\":\"25\",\"Abbreviation\":\"SD\",\"Agricultural Land( %)\":\"28.70%\",\"Land Area(Km2)\":\"1,861,484\",\"Armed Forces size\":\"124,000\",\"Birth Rate\":32.18,\"Calling Code\":249.0,\"Capital\\\\\\\\/Major City\":\"Khartoum\",\"Co2-Emissions\":\"20,000\",\"CPI\":\"1,344.19\",\"CPI Change (%)\":\"51.00%\",\"Currency-Code\":\"SDG\",\"Fertility Rate\":4.41,\"Forested Area (%)\":\"8.10%\",\"Gasoline Price\":\"$0.95 \",\"GDP\":\"$18,902,284,476 \",\"Gross primary education enrollment (%)\":\"76.80%\",\"Gross tertiary education enrollment (%)\":\"16.90%\",\"Infant mortality\":42.1,\"Largest city\":\"Omdurman\",\"Life expectancy\":65.1,\"Maternal mortality ratio\":295.0,\"Minimum wage\":\"$0.41 \",\"Official language\":\"Arabic\",\"Out of pocket health expenditure\":\"63.20%\",\"Physicians per thousand\":0.26,\"Population\":\"42,813,238\",\"Population: Labor force participation (%)\":\"48.40%\",\"Tax revenue (%)\":\"8.00%\",\"Total tax rate\":\"45.40%\",\"Unemployment rate\":\"16.53%\",\"Urban_population\":\"14,957,233\",\"Latitude\":12.862807,\"Longitude\":30.217636}\\', \\'{\"Country\":\"Oman\",\"Density\\\\\\\\n(P\\\\\\\\/Km2)\":\"16\",\"Abbreviation\":\"OM\",\"Agricultural Land( %)\":\"4.60%\",\"Land Area(Km2)\":\"309,500\",\"Armed Forces size\":\"47,000\",\"Birth Rate\":19.19,\"Calling Code\":968.0,\"Capital\\\\\\\\/Major City\":\"Muscat\",\"Co2-Emissions\":\"63,457\",\"CPI\":\"113.53\",\"CPI Change (%)\":\"0.10%\",\"Currency-Code\":\"OMR\",\"Fertility Rate\":2.89,\"Forested Area (%)\":\"0.00%\",\"Gasoline Price\":\"$0.45 \",\"GDP\":\"$76,983,094,928 \",\"Gross primary education enrollment (%)\":\"103.40%\",\"Gross tertiary education enrollment (%)\":\"38.00%\",\"Infant mortality\":9.8,\"Largest city\":\"Seeb\",\"Life expectancy\":77.6,\"Maternal mortality ratio\":19.0,\"Minimum wage\":\"$4.33 \",\"Official language\":\"Arabic\",\"Out of pocket health expenditure\":\"6.40%\",\"Physicians per thousand\":2.0,\"Population\":\"5,266,535\",\"Population: Labor force participation (%)\":\"72.40%\",\"Tax revenue (%)\":\"2.50%\",\"Total tax rate\":\"27.40%\",\"Unemployment rate\":\"2.67%\",\"Urban_population\":\"4,250,777\",\"Latitude\":21.4735329,\"Longitude\":55.975413}\\', \\'{\"Country\":\"Pakistan\",\"Density\\\\\\\\n(P\\\\\\\\/Km2)\":\"287\",\"Abbreviation\":\"PK\",\"Agricultural Land( %)\":\"47.80%\",\"Land Area(Km2)\":\"796,095\",\"Armed Forces size\":\"936,000\",\"Birth Rate\":28.25,\"Calling Code\":92.0,\"Capital\\\\\\\\/Major City\":\"Islamabad\",\"Co2-Emissions\":\"201,150\",\"CPI\":\"182.32\",\"CPI Change (%)\":\"10.60%\",\"Currency-Code\":\"PKR\",\"Fertility Rate\":3.51,\"Forested Area (%)\":\"1.90%\",\"Gasoline Price\":\"$0.79 \",\"GDP\":\"$304,400,000,000 \",\"Gross primary education enrollment (%)\":\"94.30%\",\"Gross tertiary education enrollment (%)\":\"9.00%\",\"Infant mortality\":57.2,\"Largest city\":\"Karachi\",\"Life expectancy\":67.1,\"Maternal mortality ratio\":140.0,\"Minimum wage\":\"$0.69 \",\"Official language\":\"Urdu\",\"Out of pocket health expenditure\":\"66.50%\",\"Physicians per thousand\":0.98,\"Population\":\"216,565,318\",\"Population: Labor force participation (%)\":\"52.60%\",\"Tax revenue (%)\":\"9.20%\",\"Total tax rate\":\"33.90%\",\"Unemployment rate\":\"4.45%\",\"Urban_population\":\"79,927,762\",\"Latitude\":30.375321,\"Longitude\":69.345116}\\']'}],\n",
       "  'thought': None,\n",
       "  'runTime': 4.345,\n",
       "  'usedCredits': 0.00082335,\n",
       "  'apiCalls': 2,\n",
       "  'task': None}]"
      ]
     },
     "execution_count": 117,
     "metadata": {},
     "output_type": "execute_result"
    }
   ],
   "source": [
    "# Run the agent with a query\n",
    "agent_response = agent.run(\"What is the birth rate in Saudi Arabia?\")\n",
    "\n",
    "agent_response.data['intermediate_steps']"
   ]
  },
  {
   "cell_type": "code",
   "execution_count": 118,
   "metadata": {},
   "outputs": [
    {
     "data": {
      "text/plain": [
       "'The birth rate in Saudi Arabia is 17.8.'"
      ]
     },
     "execution_count": 118,
     "metadata": {},
     "output_type": "execute_result"
    }
   ],
   "source": [
    "# Display the final output from the agent\n",
    "agent_response.data.output"
   ]
  },
  {
   "cell_type": "code",
   "execution_count": 119,
   "metadata": {},
   "outputs": [
    {
     "name": "stderr",
     "output_type": "stream",
     "text": [
      "INFO:root:Polling for Model: Start polling for model_process\n"
     ]
    },
    {
     "data": {
      "text/plain": [
       "[{'agent': 'Knowledge Assistant for countries information',\n",
       "  'input': \"{'input': 'is there are EPA regulations or standards?', 'chat_history': [], 'outputFormat': 'text'}\",\n",
       "  'output': \"The EPA sets limits on certain air pollutants under the Clean Air Act (CAA). This includes regulations on emissions from sources like chemical plants and utilities. Key areas of focus include greenhouse gases, criteria air pollutants, and toxic air pollutants. For more detailed information, you can refer to the EPA's official resources on air quality standards and regulations.\",\n",
       "  'tool_steps': [{'tool': 'search-aixplain-regulatory_and_guidance_information_for_air',\n",
       "    'input': \"{'text': 'EPA regulations or standards'}\",\n",
       "    'output': '[\\'Regulatory and Guidance Information by Topic: Air | US EPA\\\\nSkip to main content\\\\nAn official website of the United States government\\\\nHere’s how you know\\\\nHere’s how you know\\\\nOfficial websites use .gov\\\\n A .gov website belongs to an official government organization in the United States.\\\\nSecure .gov websites use HTTPS\\\\n A lock (LockA locked padlock) or https:// means you’ve safely connected to the .gov website. Share sensitive information only on official, secure websites.\\\\nJavaScript appears to be disabled on this computer. Please click here to see any active alerts.\\\\nMenu\\\\nSearch\\\\n Search\\\\nPrimary navigation Environmental Topics\\\\nEnvironmental TopicsAirBed BugsCancerChemicals, Toxics, and Pesticide Emergency ResponseEnvironmental Information by Location HealthLand, Waste, and CleanupLeadMoldRadonResearchScience TopicsWater TopicsA-Z Topic Index\\\\n Laws & Regulations\\\\nLaws & RegulationsBy Business SectorBy TopicComplianceEnforcementLaws and Executive OrdersRegulations\\\\n Report a Violation\\\\nReport a ViolationEnvironmental ViolationsFraud, Waste or Abuse\\\\n About EPA\\\\nAbout EPAOur Mission and What We DoHeadquarters OfficesRegional OfficesLabs and Research CentersPlanning, Budget, and ResultsOrganization ChartEPA History \\\\nBreadcrumb\\\\nHome\\\\nRegulatory Information By Topic\\\\n Regulatory and Guidance Information by Topic: Air\\\\nUnder the Clean Air Act (CAA), EPA sets limits on certain air pollutants, including setting limits on how much can be in the air anywhere in the United States. The Clean Air Act also gives EPA the authority to limit emissions of air pollutants coming from sources like chemical plants, utilities, and steel mills. Individual states or tribes may have stronger air pollution laws, but they may not have weaker pollution limits than those set by EPA.Read more at The Plain English Guide to the Clean Air Act On this page:\\\\nGreenhouse Gases (GHGs)\\\\nClimate Change\\\\nIndoor Air\\\\nMold\\\\nRadiation\\\\nStationary Sources\\\\nClean Air Markets (includes\\\\xa0Acid Rain and Cross State Air Pollution Rule (CSAPR))\\\\nCriteria Air Pollutants: Carbon Monoxide, Ground-level Ozone, Lead, Nitrogen Oxides, Particulate Matter, and Sulfur Dioxide\\\\nNew Source Performance Standards (NSPS)\\\\nNew Source Review (NSR)/Prevention of Significant Deterioration (PSD)\\\\nOzone Layer Protection\\\\nOperating Permits/Title V\\\\nToxic Air Pollutants (Hazardous Air Pollutants)\\\\nTransportation: Mobile Sources\\\\nVisibility/Haze\\\\nOn other pages:\\\\nCross-Cutting Issues: Lead\\\\nCross-Cutting Issues: Mercury\\\\nGreenhouse Gases (GHGs)Greenhouse Gas Emissions: EPA provides information about emissions levels, sources of GHGs, partnership (voluntary programs), and options for cutting emissions.\\\\xa0Climate ChangeEPA studies and reports on Climate Change as it impacts various populations and the natural environment. Learn about climate change\\\\\\'s effects on the energy sector, transportation, and water, along with other climate change research.Indoor AirIndoor Air Quality: EPA does not regulate indoor air, but we do offer assistance in protecting your indoor air quality. Find information about mold, radon, formaldehyde and other indoor air quality issues.MoldCurrently, there are no EPA regulations or standards for airborne mold contaminants. Learn more about mold on our Mold and Moisture site.Policy and Guidance\\\\nMold Remediation in Schools and Commercial Buildings: guidelines for the remediation/cleanup of mold and moisture problems in schools and commercial buildings. Includes measures designed to protect the health of building occupants and remediators.\\\\nRadiationCongress designated EPA as the primary federal agency charged with protecting people and the environment from harmful and avoidable exposure to radiation. EPA responds to emergencies, assists in homeland security, assesses radiation risks, sets protective limits on emissions, and informs people about radiation and radiation hazards.Radiation Resources Outside of EPA: Cell Phones: Wireless technology devices such as cell phones and computer networks are regulated by the US Federal Communication Commission (FCC) and the US Food and Drug Administration (FDA).Laws and Regulations\\\\nRadiation Regulations and Laws\\\\nRadiological Emergency Response\\\\nRadiation Protection: International Response\\\\nPolicy and Guidance \\\\nRadiation Information for Technical Users and the Regulated Community\\\\nStationary SourcesThe Clean Air Act (CAA) requires major stationary sources to install pollution control equipment and to meet specific emissions limitations. In addition, under the 1990 CAA amendments, major stationary sources must obtain operating permits.Clean Air MarketsEPA’s Clean Air Markets Division (CAMD) runs programs that reduce air pollution from power plants to address environmental problems such as\\\\xa0acid rain,\\\\xa0ozone\\\\xa0and\\\\xa0particle pollution, and\\\\xa0interstate transport of air pollution.The\\\\xa0Clean Air Markets website includes data and progress statistics, compliance resources for program participants, and the main program sites:\\\\nAcid Rain Program (ARP)\\\\nCross-State Air Pollution Rule (CSAPR)\\\\nSix Criteria Air Pollutants: Carbon Monoxide, Ground-level Ozone, Lead, Nitrogen Oxides, Particulate Matter, and Sulfur DioxideThe Clean Air Act (CAA) requires EPA to set National Ambient Air Quality Standards (NAAQS) for six common air pollutants. EPA must designate areas as meeting (attainment) or not meeting (nonattainment) the standard. States are required to develop a general plan to attain and maintain the NAAQS in all areas of the country, and a specific plan to attain the standards for each area designated nonattainment for a NAAQS.Laws and Regulations\\\\nNational Ambient Air Quality Standards (NAAQS): standards and implementation information for each of the six common air pollutants. Find information on sources for each pollutant, why the pollutant is of concern, health and environmental effects, and current efforts to help reduce the pollutants\\\\nSix Criteria Air Pollutants: Designations: find information on the process EPA, the states, and the tribes follow to designate areas as \"attainment\" or \"nonattainment\" for each of the pollutants\\\\nState Implementation Plan Status and Information: identifies how states and EPA work together to ensure that the agency\\\\\\'s\\\\xa0NAAQS\\\\xa0are met and maintained\\\\nNew Source Performance Standards (NSPS)The Clean Air Act (CAA) requires EPA to create a list of the important categories of stationary sources of air pollution, and to establish Federal standards of performance for new sources within these categories. These New Source Performance Standards (NSPS) apply to newly constructed sources or those that undergo major upgrades or modifications. The standards include both equipment specifications as well as operation and measurement requirements.Laws and Regulations\\\\nNew Source Performance Standards: includes selected NSPS.\\\\xa0 NSPS are published at 40 CFR 60.\\\\nCompliance\\\\nNew Source Performance Standards and State Improvement Plans Compliance Monitoring\\\\nApplicability Determination Index (ADI): NSPS and NESHAP memoranda and letters, including applicability determinations and regulatory interpretations.\\\\nNew Source Review (NSR)/Prevention of Significant Deterioration (PSD)The Clean Air Act (CAA) requires all areas of the country to meet or strive to comply with the National Ambient Air Quality Standards (NAAQS). One of the key programs designed to achieve compliance with the NAAQS is the New Source Review (NSR) program, a preconstruction review process for new and modified stationary sources.Laws and Regulations\\\\nNSR: Regulations and Standards\\\\nCompliance\\\\nRACT/BACT/LAER Clearinghouse (RBLC): database with case-specific information on the \"Best Available\" air pollution technologies that have been required to reduce the emission of air pollutants from stationary sources\\\\nEnforcement\\\\nAir Enforcement: New Source Review and Prevention of Significant Deterioration\\\\nPolicy and Guidance\\\\nNSR: Policy and Guidance\\\\nNew Source Review Policy and Guidance Database: a database with policy and guidance documents interpreting NSR and PSD construction permit regulations.\\\\nOzone Layer ProtectionUnder Title VI of the Clean Air Act (CAA), EPA is responsible for programs that protect the stratospheric ozone layer. Laws and Regulations\\\\nOzone Layer Protection: Regulatory Programs: Information about the phase-out of chlorofluorocarbons (CFCs) and hydrochlorofluorocarbons (HCFCs), stationary refrigeration and air conditioning (Section 608), motor vehicle air conditioning (Section 609), the Montreal Protocol, and more.\\\\nCompliance\\\\nImporting Bulk Ozone Depleting Substances\\\\nStratospheric Ozone Including CFCs Compliance Monitoring\\\\nEnforcement\\\\nEnforcement Actions Under Title VI of the Clean Air Act\\\\nOperating Permits/Title VOperating permits are legally enforceable documents that permitting authorities issue to air pollution sources after the source has begun to operate.Laws and Regulations\\\\nOperating Permits: Current Regulations and Regulatory Actions\\\\nPolicy and Guidance\\\\nOAR Policy and Guidance: Operating Permits (Title V): including policy and guidance memos and white papers.\\\\nTitle V Policy and Guidance Document Index: a searchable database of policy and guidance documents that interpret title V and its regulations.\\\\nToxic Air Pollutants (Hazardous Air Pollutants)The Clean Air Act (CAA) requires EPA to regulate emissions of toxic air pollutants from a published list of industrial sources referred to as \"source categories.\" Toxic air pollutants include mercury, polychlorinated biphenyls (PCBs), benzene and volatile organic compounds (VOCs).Laws and Regulations\\\\nNational Emissions Standards for Hazardous Air Pollutants (NESHAPs): An alphabetical list of NESHAPs by source category, including area sources.\\\\nCompliance\\\\nNESHAPs Compliance Monitoring: Information about inspections, evaluations and investigations.\\\\nEnforcement\\\\nNational Compliance Initiative: Creating Cleaner Air for Communities by Reducing Excess Emissions of Harmful Pollutants\\\\nTransportation: Mobile SourcesThe Clean Air Act (CAA) mandates controls on air pollution from mobile sources by regulating both the composition of fuels and emission-control components on motor vehicles and nonroad engines. Vehicle fuel standards for gasoline and diesel are met by refiners/ importers, and by other parties in the fuel distribution system.Regulation of vehicles includes vehicle emission limits for hydrocarbons (HC), carbon monoxide (CO), and nitrogen oxides (NOx), and particulates in the case of diesel vehicles. These limits, which must be met by the vehicle manufacturers, apply to on-road vehicles, off-road vehicles, and non-road sources (e.g., marine engines, locomotives, and lawn and garden equipment). Under the 1990 CAA amendments, vehicle standards are being made more stringent, in stages, through 2005 or later.Vehicle safety information is available from the National Highway Traffic Safety Administration.\\\\nBrowse by vehicle/fuel type:\\\\nOn-road Vehicles and Engines\\\\nNonroad Vehicles and Engines\\\\nFuels and Fuel Additives\\\\nCars and light trucks\\\\nHeavy trucks, buses, engines\\\\nMotorcycles\\\\nAircraft\\\\nDiesel boats and ships\\\\nForklifts, generators and compressors (gasoline and propane)\\\\nGasoline boats and personal watercraft\\\\nLawn and garden (small gasoline equipment)\\\\nLocomotives\\\\nNonroad diesel equipment\\\\nOcean vessels and large ships\\\\nSnowmobiles, dirt bikes, and ATVs\\\\nE15 (ethanol and gasoline blend)\\\\nDiesel\\\\nGasoline\\\\nRenewable and alternative fuels\\\\nBrowse by information type:Laws and Regulations\\\\nEmissions Standards Reference Guide: Federal emissions standards for on-road and nonroad vehicles and engines, and related fuel sulfur standards.\\\\nEngine Testing Regulations, including 40 CFR 1065.\\\\nMobile Sources Air Toxics: Regulations: Fuels such as ethanol, diesel fuels and more.\\\\nTransportation and Climate: Regulations and Standards\\\\nCompliance\\\\nCompliance Monitoring: Air Mobile Sources Program: Information about inspections, evaluations and investigations for vehicles, engines and fuels.\\\\nFuels and Fuel Additives: Compliance Information\\\\nImporting Vehicles and Engines\\\\nEnforcement\\\\nAir Enforcement: Mobile Sources\\\\nPolicies and Guidance\\\\nState and Local Transportation Resources: Policy and Guidance: Directions for state and local governments on how to implement strategies for controlling transportation sector emissions.\\\\nVisibility/HazeOne of the most basic forms of air pollution - haze - degrades visibility in many American cities and scenic areas. Since 1988 the federal government has been monitoring visibility in national parks and wilderness area.Read more on the Visibility website .Laws and Regulations\\\\nVisibility Regulatory Actions\\\\n Major Environmental Laws\\\\nThe Clean Air Act\\\\n Frequent Questions\\\\nWhy is my gas mileage lower than the EPA rating?\\\\nWhat do I need to do if I want to import a car or vehicle to the United States?\\\\nWhere can I find National Emission Standards for Hazardous Air Pollutants (NESHAPs)?\\\\nAsk a Question International & Tribal Information\\\\nReducing Air Pollution from International Transportation\\\\nTribal Air: Air Program Resources\\\\nRegulatory Information By Topic\\\\nOpen Sidenav Menu\\\\nClose Sidenav Menu \\\\nAir Topics\\\\nCross-cutting Issues\\\\nEmergency Management Topics\\\\nLand and Cleanup Topics\\\\nPesticide Topics\\\\nToxic Substance Topics\\\\nWaste Topics\\\\nWater Topics \\\\nContact Us about Regulatory Information By Topic\\\\nContact Us to ask a question, provide feedback, or report a problem.\\\\nLast updated on May 20, 2025\\\\nAssistance\\\\nSpanish\\\\nArabic\\\\nChinese (simplified)\\\\nChinese (traditional)\\\\nFrench\\\\nHaitian Creole\\\\nKorean\\\\nPortuguese\\\\nRussian\\\\nTagalog\\\\nVietnamese\\\\nDiscover.\\\\nAccessibility Statement\\\\nBudget & Performance\\\\nContracting\\\\nEPA www Web Snapshot\\\\nGrants\\\\nNo FEAR Act Data\\\\nPlain Writing\\\\nPrivacy\\\\nPrivacy and Security Notice\\\\nConnect.\\\\nData\\\\nInspector General\\\\nJobs\\\\nNewsroom\\\\nRegulations.gov\\\\nSubscribe\\\\nUSA.gov\\\\nWhite House\\\\nAsk.\\\\nContact EPA\\\\nEPA Disclaimers\\\\nHotlines\\\\nFOIA Requests\\\\nFrequent Questions\\\\nSite Feedback\\\\nFollow.\\']'}],\n",
       "  'thought': None,\n",
       "  'runTime': 3.901,\n",
       "  'usedCredits': 0.00085695,\n",
       "  'apiCalls': 2,\n",
       "  'task': None}]"
      ]
     },
     "execution_count": 119,
     "metadata": {},
     "output_type": "execute_result"
    }
   ],
   "source": [
    "agent_response = agent.run(\"is there are EPA regulations or standards?\")\n",
    "\n",
    "agent_response.data['intermediate_steps']"
   ]
  },
  {
   "cell_type": "code",
   "execution_count": 120,
   "metadata": {},
   "outputs": [
    {
     "data": {
      "text/plain": [
       "\"The EPA sets limits on certain air pollutants under the Clean Air Act (CAA). This includes regulations on emissions from sources like chemical plants and utilities. Key areas of focus include greenhouse gases, criteria air pollutants, and toxic air pollutants. For more detailed information, you can refer to the EPA's official resources on air quality standards and regulations.\""
      ]
     },
     "execution_count": 120,
     "metadata": {},
     "output_type": "execute_result"
    }
   ],
   "source": [
    "agent_response.data.output"
   ]
  },
  {
   "cell_type": "code",
   "execution_count": 125,
   "metadata": {},
   "outputs": [
    {
     "name": "stderr",
     "output_type": "stream",
     "text": [
      "INFO:root:Polling for Model: Start polling for model_process\n"
     ]
    },
    {
     "data": {
      "text/plain": [
       "[{'agent': 'Knowledge Assistant for countries information',\n",
       "  'input': \"{'input': 'what is the latest flight information for Emirates?', 'chat_history': [], 'outputFormat': 'text'}\",\n",
       "  'output': 'The latest flight information for Emirates includes:\\n- Emirates flight EK5453 from Perth International (PER) to Karratha (KTA) is in the air.\\n- Emirates flight EK5718 from Perth International (PER) to Canberra (CBR) is in the air.',\n",
       "  'tool_steps': [{'tool': 'utilities-aixplain-get_flight_information',\n",
       "    'input': \"{'airline': 'Emirates'}\",\n",
       "    'output': \"['Emirates flight EK5453 from Perth International (PER) to Karratha (KTA) is in the air.',\\n 'Emirates flight EK5718 from Perth International (PER) to Canberra (CBR) is in the air.']\"}],\n",
       "  'thought': None,\n",
       "  'runTime': 5.344,\n",
       "  'usedCredits': 0.0003993,\n",
       "  'apiCalls': 2,\n",
       "  'task': None}]"
      ]
     },
     "execution_count": 125,
     "metadata": {},
     "output_type": "execute_result"
    }
   ],
   "source": [
    "agent_response = agent.run(\"what is the latest flight information for Emirates?\")\n",
    "\n",
    "agent_response.data['intermediate_steps']"
   ]
  },
  {
   "cell_type": "code",
   "execution_count": 127,
   "metadata": {},
   "outputs": [
    {
     "name": "stdout",
     "output_type": "stream",
     "text": [
      "The latest flight information for Emirates includes:\n",
      "- Emirates flight EK5453 from Perth International (PER) to Karratha (KTA) is in the air.\n",
      "- Emirates flight EK5718 from Perth International (PER) to Canberra (CBR) is in the air.\n"
     ]
    }
   ],
   "source": [
    "print(agent_response.data.output)"
   ]
  }
 ],
 "metadata": {
  "kernelspec": {
   "display_name": "aixademoenv",
   "language": "python",
   "name": "python3"
  },
  "language_info": {
   "codemirror_mode": {
    "name": "ipython",
    "version": 3
   },
   "file_extension": ".py",
   "mimetype": "text/x-python",
   "name": "python",
   "nbconvert_exporter": "python",
   "pygments_lexer": "ipython3",
   "version": "3.9.6"
  }
 },
 "nbformat": 4,
 "nbformat_minor": 2
}
